{
 "cells": [
  {
   "cell_type": "markdown",
   "metadata": {},
   "source": [
    "# Collaboration and Competition\n",
    "\n",
    "---\n",
    "\n",
    "This notebook uses Multi-Agent Deep Deterministic Policy Gradients (MADDPG) to solve the tennis environment.\n",
    "\n",
    "## I. Preparation"
   ]
  },
  {
   "cell_type": "code",
   "execution_count": null,
   "metadata": {},
   "outputs": [],
   "source": [
    "import torch\n",
    "import numpy as np\n",
    "import pandas as pd\n",
    "import matplotlib.pyplot as plt\n",
    "plt.style.use('ggplot')\n",
    "from collections import deque\n",
    "from unityagents import UnityEnvironment\n",
    "from maddpg_agent import MADDPGAgents"
   ]
  },
  {
   "cell_type": "code",
   "execution_count": null,
   "metadata": {},
   "outputs": [],
   "source": [
    "def train_maddpg(n_episodes=2000, max_t=2000, print_every=100, rolling_window=100, \n",
    "         output_actor='checkpoint_actor.pth', output_critic='checkpoint_critic.pth'):\n",
    "    # Initialize\n",
    "    scores_pass = 0.5\n",
    "    solved = False\n",
    "    brain_name = env.brain_names[0]\n",
    "    scores_deque = deque(maxlen=rolling_window)\n",
    "    scores = []\n",
    "    # Iterate through episodes\n",
    "    for i_episode in range(1, n_episodes+1):\n",
    "        env_info = env.reset(train_mode=True)[brain_name]\n",
    "        states = env_info.vector_observations\n",
    "        agents.reset()\n",
    "        score = np.zeros(agents.n_agents)\n",
    "        for t in range(max_t):\n",
    "            actions = agents.act(states)\n",
    "            env_info = env.step(actions)[brain_name]\n",
    "            next_states = env_info.vector_observations\n",
    "            rewards = env_info.rewards\n",
    "            dones = env_info.local_done         \n",
    "            agents.step(states, actions, rewards, next_states, dones)\n",
    "            states = next_states\n",
    "            score += rewards\n",
    "            if np.any(dones):\n",
    "                break \n",
    "        scores_deque.append(np.max(score))\n",
    "        scores.append(np.max(score))\n",
    "        # Print results\n",
    "        print('\\rEpisode {} - Rolling Avg. Score (Max): {:.2f}'.format(i_episode, np.mean(scores_deque)), end=\"\")\n",
    "        if i_episode % print_every == 0:\n",
    "            print('')\n",
    "        # Save (save only one, since the two agents are trying to learn the same strategy.)\n",
    "        if np.mean(scores_deque)>=scores_pass:\n",
    "            if solved == False:\n",
    "                print('\\n * Environment first solved in {:d} episodes! Continue training...'.format(i_episode))\n",
    "                solved = True\n",
    "            scores_pass = np.mean(scores_deque)\n",
    "            torch.save(agents.agents[0].actor_local.state_dict(), output_actor)\n",
    "            torch.save(agents.agents[0].critic_local.state_dict(), output_critic)\n",
    "    return scores\n",
    "\n",
    "def plot_score(scores, rolling_window=100):\n",
    "    df_scores = pd.DataFrame(scores, columns=['EpisodeScore'])\n",
    "    df_scores['MovingAvg100'] = df_scores['EpisodeScore'].rolling(rolling_window, min_periods=1).mean()\n",
    "    df_scores.plot(color=['grey', 'red'])\n",
    "    plt.ylabel('Score')\n",
    "    plt.xlabel('Episode #')\n",
    "    plt.show()"
   ]
  },
  {
   "cell_type": "markdown",
   "metadata": {},
   "source": [
    "## II. Environment"
   ]
  },
  {
   "cell_type": "code",
   "execution_count": null,
   "metadata": {},
   "outputs": [],
   "source": [
    "env = UnityEnvironment(file_name=\"Tennis_Windows\\Tennis.exe\")\n",
    "brain_name = env.brain_names[0]\n",
    "brain = env.brains[brain_name]\n",
    "env_info = env.reset(train_mode=True)[brain_name]"
   ]
  },
  {
   "cell_type": "markdown",
   "metadata": {},
   "source": [
    "## III. Train the Agents"
   ]
  },
  {
   "cell_type": "code",
   "execution_count": null,
   "metadata": {},
   "outputs": [],
   "source": [
    "# Train model or load model\n",
    "train_model = True"
   ]
  },
  {
   "cell_type": "code",
   "execution_count": null,
   "metadata": {},
   "outputs": [],
   "source": [
    "# Environment Info\n",
    "device = torch.device('cuda:0' if torch.cuda.is_available() else 'cpu')\n",
    "output_actor = 'checkpoint_actor.pth'\n",
    "output_critic = 'checkpoint_critic.pth'\n",
    "n_agents = len(env_info.agents)\n",
    "action_size = brain.vector_action_space_size\n",
    "state_size = env_info.vector_observations.shape[1]\n",
    "\n",
    "# Agents\n",
    "agents = MADDPGAgents(state_size, action_size, n_agents)\n",
    "if train_model:\n",
    "    scores = train_maddpg(output_actor=output_actor, output_critic=output_critic)\n",
    "    plot_score(scores)\n",
    "else:\n",
    "    for i in range(n_agents):\n",
    "        agents.agents[i].actor_local.load_state_dict(torch.load(output_actor))\n",
    "        agents.agents[i].critic_local.load_state_dict(torch.load(output_critic))"
   ]
  },
  {
   "cell_type": "markdown",
   "metadata": {},
   "source": [
    "## IV. Watch the Smart Agents"
   ]
  },
  {
   "cell_type": "code",
   "execution_count": null,
   "metadata": {},
   "outputs": [],
   "source": [
    "# Watch the trained agent\n",
    "env_info = env.reset(train_mode=False)[brain_name] \n",
    "states = env_info.vector_observations\n",
    "scores = np.zeros(n_agents)\n",
    "while True:\n",
    "    actions = agents.act(states, add_noise=False)\n",
    "    env_info = env.step(actions)[brain_name]\n",
    "    next_states = env_info.vector_observations\n",
    "    rewards = env_info.rewards \n",
    "    dones = env_info.local_done\n",
    "    scores += rewards\n",
    "    states = next_states \n",
    "    if np.any(dones):\n",
    "        break\n",
    "print('Scores of this episode: {}'.format(scores))\n",
    "# env.close()"
   ]
  },
  {
   "cell_type": "code",
   "execution_count": null,
   "metadata": {},
   "outputs": [],
   "source": []
  }
 ],
 "metadata": {
  "kernelspec": {
   "display_name": "Python 3",
   "language": "python",
   "name": "python3"
  },
  "language_info": {
   "codemirror_mode": {
    "name": "ipython",
    "version": 3
   },
   "file_extension": ".py",
   "mimetype": "text/x-python",
   "name": "python",
   "nbconvert_exporter": "python",
   "pygments_lexer": "ipython3",
   "version": "3.6.8"
  }
 },
 "nbformat": 4,
 "nbformat_minor": 2
}
